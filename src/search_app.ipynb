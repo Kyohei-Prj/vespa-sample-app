{
 "cells": [
  {
   "cell_type": "code",
   "execution_count": null,
   "id": "f7b90015-78ae-4680-aac2-7b3aff2ff8eb",
   "metadata": {
    "collapsed": false
   },
   "outputs": [],
   "source": [
    "from vespa.application import Vespa\n",
    "from sentence_transformers import SentenceTransformer\n",
    "from pprint import pprint\n",
    "\n",
    "vespa_conn = Vespa(url=\"http://localhost\", port=8080)\n",
    "\n",
    "model_name = 'intfloat/multilingual-e5-base'\n",
    "model = SentenceTransformer(model_name)"
   ]
  },
  {
   "cell_type": "code",
   "execution_count": null,
   "id": "3a497474-2028-46cf-9304-cf07ce4e3b5f",
   "metadata": {
    "collapsed": false
   },
   "outputs": [],
   "source": [
    "def run_multiple_ranking(keyword: str):\n",
    "\n",
    "    results = []\n",
    "    for rank in ('bm25', 'semantic', 'fusion'):\n",
    "        result = vespa_conn.query(\n",
    "            yql='select * from doc where ({targetHits:100}nearestNeighbor(embedding, q)) or userQuery()',\n",
    "            query=keyword,\n",
    "            body={\n",
    "                \"input.query(q)\": model.encode(keyword, normalize_embeddings=True).tolist()\n",
    "            },\n",
    "            ranking=rank,\n",
    "            language='ja',\n",
    "            tracelevel=2\n",
    "        )\n",
    "        print(rank)\n",
    "        pprint(result.hits[0])\n",
    "        print()\n",
    "        print()\n",
    "        results.append(result)\n",
    "\n",
    "    return results"
   ]
  },
  {
   "cell_type": "code",
   "execution_count": null,
   "id": "52ab8e13-88df-451c-a51e-32749d92f636",
   "metadata": {
    "collapsed": false
   },
   "outputs": [],
   "source": [
    "keyword = 'AMDのパフォーマンス'\n",
    "results = run_multiple_ranking(keyword)"
   ]
  },
  {
   "cell_type": "code",
   "execution_count": null,
   "id": "831c6ed6-67dd-4ec3-8350-e9e1a7697f8f",
   "metadata": {
    "collapsed": false
   },
   "outputs": [],
   "source": [
    "results[-1].get_json()"
   ]
  }
 ],
 "metadata": {
  "kernelspec": {
   "argv": [
    "python",
    "-m",
    "ipykernel_launcher",
    "-f",
    "{connection_file}"
   ],
   "display_name": "Python 3 (ipykernel)",
   "env": null,
   "interrupt_mode": "signal",
   "language": "python",
   "metadata": {
    "debugger": true
   },
   "name": "python3"
  },
  "name": "vespa_app.ipynb"
 },
 "nbformat": 4,
 "nbformat_minor": 5
}
